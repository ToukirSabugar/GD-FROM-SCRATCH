{
  "nbformat": 4,
  "nbformat_minor": 0,
  "metadata": {
    "colab": {
      "provenance": [],
      "authorship_tag": "ABX9TyOV/8e5GgooinUdd8b91tQX",
      "include_colab_link": true
    },
    "kernelspec": {
      "name": "python3",
      "display_name": "Python 3"
    },
    "language_info": {
      "name": "python"
    }
  },
  "cells": [
    {
      "cell_type": "markdown",
      "metadata": {
        "id": "view-in-github",
        "colab_type": "text"
      },
      "source": [
        "<a href=\"https://colab.research.google.com/github/ToukirSabugar/GD-FROM-SCRATCH/blob/main/mini_batch_gradient_descent_from_scratch.ipynb\" target=\"_parent\"><img src=\"https://colab.research.google.com/assets/colab-badge.svg\" alt=\"Open In Colab\"/></a>"
      ]
    },
    {
      "cell_type": "code",
      "execution_count": null,
      "metadata": {
        "id": "dgvSdTWLzg76"
      },
      "outputs": [],
      "source": [
        "from sklearn.datasets import load_diabetes\n",
        "\n",
        "import numpy as np\n",
        "from sklearn.linear_model import LinearRegression\n",
        "from sklearn.metrics import r2_score\n",
        "from sklearn.model_selection import train_test_split"
      ]
    },
    {
      "cell_type": "code",
      "source": [
        "X,y = load_diabetes(return_X_y=True)"
      ],
      "metadata": {
        "id": "YJF3-eKIzhgu"
      },
      "execution_count": null,
      "outputs": []
    },
    {
      "cell_type": "code",
      "source": [
        "print(X.shape)\n",
        "print(y.shape)"
      ],
      "metadata": {
        "colab": {
          "base_uri": "https://localhost:8080/"
        },
        "id": "lA8CGj0RzrJw",
        "outputId": "010e7e64-dd4f-444d-fc48-24ca128eb94a"
      },
      "execution_count": null,
      "outputs": [
        {
          "output_type": "stream",
          "name": "stdout",
          "text": [
            "(442, 10)\n",
            "(442,)\n"
          ]
        }
      ]
    },
    {
      "cell_type": "code",
      "source": [
        "X_train,X_test,y_train,y_test = train_test_split(X,y,test_size=0.2,random_state=2)"
      ],
      "metadata": {
        "id": "6Fw23Bc1ztJM"
      },
      "execution_count": null,
      "outputs": []
    },
    {
      "cell_type": "code",
      "source": [
        "reg = LinearRegression()\n",
        "reg.fit(X_train,y_train)"
      ],
      "metadata": {
        "colab": {
          "base_uri": "https://localhost:8080/"
        },
        "id": "yhsPd3BqzvMu",
        "outputId": "33af25d9-5472-46ee-8ec1-4076bb515918"
      },
      "execution_count": null,
      "outputs": [
        {
          "output_type": "execute_result",
          "data": {
            "text/plain": [
              "LinearRegression()"
            ]
          },
          "metadata": {},
          "execution_count": 5
        }
      ]
    },
    {
      "cell_type": "code",
      "source": [
        "print(reg.coef_)\n",
        "print(reg.intercept_)"
      ],
      "metadata": {
        "colab": {
          "base_uri": "https://localhost:8080/"
        },
        "id": "2PXIhIIhz6RC",
        "outputId": "941e3bf0-034e-47c2-fd52-0beaa98af584"
      },
      "execution_count": null,
      "outputs": [
        {
          "output_type": "stream",
          "name": "stdout",
          "text": [
            "[  -9.16088483 -205.46225988  516.68462383  340.62734108 -895.54360867\n",
            "  561.21453306  153.88478595  126.73431596  861.12139955   52.41982836]\n",
            "151.88334520854633\n"
          ]
        }
      ]
    },
    {
      "cell_type": "code",
      "source": [
        "y_pred = reg.predict(X_test)\n",
        "r2_score(y_test,y_pred)"
      ],
      "metadata": {
        "colab": {
          "base_uri": "https://localhost:8080/"
        },
        "id": "k9MzVr7rz-zY",
        "outputId": "725a4df9-50a1-48c8-9a3e-2be7efec762b"
      },
      "execution_count": null,
      "outputs": [
        {
          "output_type": "execute_result",
          "data": {
            "text/plain": [
              "0.4399387660024645"
            ]
          },
          "metadata": {},
          "execution_count": 7
        }
      ]
    },
    {
      "cell_type": "code",
      "source": [
        "import random\n",
        "\n",
        "class MBGDRegressor:\n",
        "    \n",
        "    def __init__(self,batch_size,learning_rate=0.01,epochs=100):\n",
        "        \n",
        "        self.coef_ = None\n",
        "        self.intercept_ = None\n",
        "        self.lr = learning_rate\n",
        "        self.epochs = epochs\n",
        "        self.batch_size = batch_size\n",
        "        \n",
        "    def fit(self,X_train,y_train):\n",
        "        # init your coefs\n",
        "        self.intercept_ = 0\n",
        "        self.coef_ = np.ones(X_train.shape[1])\n",
        "        \n",
        "        for i in range(self.epochs):\n",
        "            \n",
        "            for j in range(int(X_train.shape[0]/self.batch_size)):\n",
        "                \n",
        "                idx = random.sample(range(X_train.shape[0]),self.batch_size)\n",
        "                \n",
        "                y_hat = np.dot(X_train[idx],self.coef_) + self.intercept_\n",
        "                #print(\"Shape of y_hat\",y_hat.shape)\n",
        "                intercept_der = -2 * np.mean(y_train[idx] - y_hat)\n",
        "                self.intercept_ = self.intercept_ - (self.lr * intercept_der)\n",
        "\n",
        "                coef_der = -2 * np.dot((y_train[idx] - y_hat),X_train[idx])\n",
        "                self.coef_ = self.coef_ - (self.lr * coef_der)\n",
        "        \n",
        "        print(self.intercept_,self.coef_)\n",
        "    \n",
        "    def predict(self,X_test):\n",
        "        return np.dot(X_test,self.coef_) + self.intercept_"
      ],
      "metadata": {
        "id": "rhDpQWA30BIX"
      },
      "execution_count": null,
      "outputs": []
    },
    {
      "cell_type": "code",
      "source": [
        "mbr = MBGDRegressor(batch_size=int(X_train.shape[0]/50),learning_rate=0.01,epochs=100)"
      ],
      "metadata": {
        "id": "Wo4LkkfI0GIG"
      },
      "execution_count": null,
      "outputs": []
    },
    {
      "cell_type": "code",
      "source": [
        "mbr.fit(X_train,y_train)"
      ],
      "metadata": {
        "id": "wjWQDPWk0JaM",
        "colab": {
          "base_uri": "https://localhost:8080/"
        },
        "outputId": "a6f905d7-1dc3-4592-9034-587c16513085"
      },
      "execution_count": null,
      "outputs": [
        {
          "output_type": "stream",
          "name": "stdout",
          "text": [
            "147.48000086909678 [  20.25060046 -136.18909696  441.66721839  305.60977986  -26.22594408\n",
            "  -96.19646182 -200.95558218  115.87843284  417.31862535  110.27072513]\n"
          ]
        }
      ]
    },
    {
      "cell_type": "code",
      "source": [
        "y_pred = mbr.predict(X_test)"
      ],
      "metadata": {
        "id": "auJnGGSuXEHj"
      },
      "execution_count": null,
      "outputs": []
    },
    {
      "cell_type": "code",
      "source": [
        "r2_score(y_test,y_pred)"
      ],
      "metadata": {
        "colab": {
          "base_uri": "https://localhost:8080/"
        },
        "id": "1QYxWjfiXEL7",
        "outputId": "2b575915-3d27-4953-b5ab-db373986b03e"
      },
      "execution_count": null,
      "outputs": [
        {
          "output_type": "execute_result",
          "data": {
            "text/plain": [
              "0.4485326551982671"
            ]
          },
          "metadata": {},
          "execution_count": 12
        }
      ]
    },
    {
      "cell_type": "code",
      "source": [
        "from sklearn.linear_model import SGDRegressor"
      ],
      "metadata": {
        "id": "kKO878kxXIhi"
      },
      "execution_count": null,
      "outputs": []
    },
    {
      "cell_type": "code",
      "source": [
        "sgd = SGDRegressor(learning_rate='constant',eta0=0.1)"
      ],
      "metadata": {
        "id": "CE3e-qgXXND2"
      },
      "execution_count": null,
      "outputs": []
    },
    {
      "cell_type": "code",
      "source": [
        "batch_size = 35\n",
        "\n",
        "for i in range(100):\n",
        "    \n",
        "    idx = random.sample(range(X_train.shape[0]),batch_size)\n",
        "    sgd.partial_fit(X_train[idx],y_train[idx])"
      ],
      "metadata": {
        "id": "HLmq2lg8XPAO"
      },
      "execution_count": null,
      "outputs": []
    },
    {
      "cell_type": "code",
      "source": [
        "sgd.coef_"
      ],
      "metadata": {
        "colab": {
          "base_uri": "https://localhost:8080/"
        },
        "id": "XolDq-B8XQ_f",
        "outputId": "75a248d1-5a75-4575-dc1f-774023daca0b"
      },
      "execution_count": null,
      "outputs": [
        {
          "output_type": "execute_result",
          "data": {
            "text/plain": [
              "array([  63.43707471,  -62.01673901,  337.20262216,  249.6996646 ,\n",
              "         12.85792212,  -39.08281225, -165.26426427,  122.45166056,\n",
              "        309.28763541,  144.48236304])"
            ]
          },
          "metadata": {},
          "execution_count": 16
        }
      ]
    },
    {
      "cell_type": "code",
      "source": [
        "sgd.intercept_"
      ],
      "metadata": {
        "colab": {
          "base_uri": "https://localhost:8080/"
        },
        "id": "fa0i5UQlXSyX",
        "outputId": "bc7624e6-94e1-46c8-9b69-7be0d86bbeb5"
      },
      "execution_count": null,
      "outputs": [
        {
          "output_type": "execute_result",
          "data": {
            "text/plain": [
              "array([147.82635716])"
            ]
          },
          "metadata": {},
          "execution_count": 17
        }
      ]
    },
    {
      "cell_type": "code",
      "source": [
        "y_pred = sgd.predict(X_test)"
      ],
      "metadata": {
        "id": "Mh4pdowxXUam"
      },
      "execution_count": null,
      "outputs": []
    },
    {
      "cell_type": "code",
      "source": [
        "r2_score(y_test,y_pred)"
      ],
      "metadata": {
        "id": "VvDzLfOYXWTa",
        "outputId": "6a8cc6e3-cf51-49ce-9995-7e14a89bef87",
        "colab": {
          "base_uri": "https://localhost:8080/"
        }
      },
      "execution_count": null,
      "outputs": [
        {
          "output_type": "execute_result",
          "data": {
            "text/plain": [
              "0.4268257542036169"
            ]
          },
          "metadata": {},
          "execution_count": 19
        }
      ]
    },
    {
      "cell_type": "code",
      "source": [],
      "metadata": {
        "id": "b_GfF_f-XYRE"
      },
      "execution_count": null,
      "outputs": []
    }
  ]
}